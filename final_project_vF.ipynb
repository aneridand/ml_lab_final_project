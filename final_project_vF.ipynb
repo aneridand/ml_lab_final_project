{
  "nbformat": 4,
  "nbformat_minor": 5,
  "metadata": {
    "kernelspec": {
      "display_name": "Python 3",
      "language": "python",
      "name": "python3"
    },
    "deepnote_notebook_id": "40b91353-ee44-41ce-9706-7f753c4dff9e",
    "deepnote": {},
    "deepnote_execution_queue": [],
    "colab": {
      "name": "final_project_vF.ipynb",
      "provenance": [],
      "include_colab_link": true
    }
  },
  "cells": [
    {
      "cell_type": "markdown",
      "metadata": {
        "id": "view-in-github",
        "colab_type": "text"
      },
      "source": [
        "<a href=\"https://colab.research.google.com/github/aneridand/ml_lab_final_project/blob/master/final_project_vF.ipynb\" target=\"_parent\"><img src=\"https://colab.research.google.com/assets/colab-badge.svg\" alt=\"Open In Colab\"/></a>"
      ]
    },
    {
      "cell_type": "markdown",
      "metadata": {
        "cell_id": "00000-b699ce1f-8a52-4bc4-a6d2-7e909ccadc90",
        "deepnote_cell_type": "markdown",
        "id": "HuJ6dGXJfT8f"
      },
      "source": [
        "# Import Libraries"
      ],
      "id": "HuJ6dGXJfT8f"
    },
    {
      "cell_type": "code",
      "metadata": {
        "cell_id": "00001-e2fa8da7-de88-4ce6-89fa-35d05f86c21c",
        "deepnote_to_be_reexecuted": false,
        "source_hash": "d8ecf0af",
        "execution_millis": 1890,
        "execution_start": 1615321278513,
        "deepnote_cell_type": "code",
        "colab": {
          "base_uri": "https://localhost:8080/"
        },
        "id": "oOF2bzlVfT8t",
        "outputId": "76dd2cd4-5a58-4e00-9689-e5264a2535a9"
      },
      "source": [
        "# REQUIREMENTS FOR GOOGLE COLAB\n",
        "!pip install category_encoders\n",
        "\n",
        "import numpy as np\n",
        "import pandas as pd\n",
        "from category_encoders import *\n",
        "from sklearn.compose import *\n",
        "from sklearn.ensemble import RandomForestClassifier, ExtraTreesClassifier, IsolationForest\n",
        "from sklearn.experimental import enable_iterative_imputer\n",
        "from sklearn.impute import *\n",
        "from sklearn.linear_model import LogisticRegression, PassiveAggressiveClassifier, RidgeClassifier, SGDClassifier\n",
        "from sklearn.metrics import make_scorer, balanced_accuracy_score, f1_score,  precision_score, recall_score, confusion_matrix\n",
        "from sklearn.pipeline import Pipeline\n",
        "from sklearn.preprocessing import *\n",
        "from sklearn.tree import DecisionTreeClassifier, ExtraTreeClassifier\n",
        "from sklearn.model_selection import RandomizedSearchCV, GridSearchCV\n",
        "from sklearn.model_selection import train_test_split"
      ],
      "id": "oOF2bzlVfT8t",
      "execution_count": 1,
      "outputs": [
        {
          "output_type": "stream",
          "text": [
            "Collecting category_encoders\n",
            "\u001b[?25l  Downloading https://files.pythonhosted.org/packages/44/57/fcef41c248701ee62e8325026b90c432adea35555cbc870aff9cfba23727/category_encoders-2.2.2-py2.py3-none-any.whl (80kB)\n",
            "\r\u001b[K     |████                            | 10kB 13.0MB/s eta 0:00:01\r\u001b[K     |████████▏                       | 20kB 18.0MB/s eta 0:00:01\r\u001b[K     |████████████▏                   | 30kB 9.6MB/s eta 0:00:01\r\u001b[K     |████████████████▎               | 40kB 7.9MB/s eta 0:00:01\r\u001b[K     |████████████████████▎           | 51kB 4.5MB/s eta 0:00:01\r\u001b[K     |████████████████████████▍       | 61kB 4.9MB/s eta 0:00:01\r\u001b[K     |████████████████████████████▍   | 71kB 5.0MB/s eta 0:00:01\r\u001b[K     |████████████████████████████████| 81kB 3.7MB/s \n",
            "\u001b[?25hRequirement already satisfied: scipy>=1.0.0 in /usr/local/lib/python3.7/dist-packages (from category_encoders) (1.4.1)\n",
            "Requirement already satisfied: numpy>=1.14.0 in /usr/local/lib/python3.7/dist-packages (from category_encoders) (1.19.5)\n",
            "Requirement already satisfied: scikit-learn>=0.20.0 in /usr/local/lib/python3.7/dist-packages (from category_encoders) (0.22.2.post1)\n",
            "Requirement already satisfied: statsmodels>=0.9.0 in /usr/local/lib/python3.7/dist-packages (from category_encoders) (0.10.2)\n",
            "Requirement already satisfied: patsy>=0.5.1 in /usr/local/lib/python3.7/dist-packages (from category_encoders) (0.5.1)\n",
            "Requirement already satisfied: pandas>=0.21.1 in /usr/local/lib/python3.7/dist-packages (from category_encoders) (1.1.5)\n",
            "Requirement already satisfied: joblib>=0.11 in /usr/local/lib/python3.7/dist-packages (from scikit-learn>=0.20.0->category_encoders) (1.0.1)\n",
            "Requirement already satisfied: six in /usr/local/lib/python3.7/dist-packages (from patsy>=0.5.1->category_encoders) (1.15.0)\n",
            "Requirement already satisfied: pytz>=2017.2 in /usr/local/lib/python3.7/dist-packages (from pandas>=0.21.1->category_encoders) (2018.9)\n",
            "Requirement already satisfied: python-dateutil>=2.7.3 in /usr/local/lib/python3.7/dist-packages (from pandas>=0.21.1->category_encoders) (2.8.1)\n",
            "Installing collected packages: category-encoders\n",
            "Successfully installed category-encoders-2.2.2\n"
          ],
          "name": "stdout"
        },
        {
          "output_type": "stream",
          "text": [
            "/usr/local/lib/python3.7/dist-packages/statsmodels/tools/_testing.py:19: FutureWarning: pandas.util.testing is deprecated. Use the functions in the public API at pandas.testing instead.\n",
            "  import pandas.util.testing as tm\n"
          ],
          "name": "stderr"
        }
      ]
    },
    {
      "cell_type": "markdown",
      "metadata": {
        "cell_id": "00002-0cab5ddc-23f3-4667-943e-bddd4c87799c",
        "deepnote_cell_type": "markdown",
        "id": "bEo4VD8tfT8v"
      },
      "source": [
        "# Load data"
      ],
      "id": "bEo4VD8tfT8v"
    },
    {
      "cell_type": "code",
      "metadata": {
        "cell_id": "00003-84ccb5d6-22aa-4642-9da3-c6b885c183ef",
        "deepnote_to_be_reexecuted": false,
        "source_hash": "2901601b",
        "execution_millis": 293,
        "execution_start": 1615321280407,
        "deepnote_cell_type": "code",
        "id": "fIeTMPmsfT8w"
      },
      "source": [
        "booking_data = pd.read_csv(\"hotel_bookings.csv\")"
      ],
      "id": "fIeTMPmsfT8w",
      "execution_count": 2,
      "outputs": []
    },
    {
      "cell_type": "markdown",
      "metadata": {
        "cell_id": "00004-c9d85380-eee9-4cf0-b208-d4b1913bcf85",
        "deepnote_cell_type": "markdown",
        "id": "VaFDhpEpfT8w"
      },
      "source": [
        "# Extract Target"
      ],
      "id": "VaFDhpEpfT8w"
    },
    {
      "cell_type": "code",
      "metadata": {
        "cell_id": "00005-e494c422-4e0a-4417-81fa-bf78bcddb387",
        "deepnote_to_be_reexecuted": false,
        "source_hash": "c7e76258",
        "execution_millis": 2,
        "execution_start": 1615321280705,
        "deepnote_cell_type": "code",
        "id": "hDdGqPuBfT8x"
      },
      "source": [
        "y = booking_data[\"is_canceled\"] # extract target"
      ],
      "id": "hDdGqPuBfT8x",
      "execution_count": 3,
      "outputs": []
    },
    {
      "cell_type": "code",
      "metadata": {
        "cell_id": "00008-ef60637b-f2cd-49c2-a8c2-2d072f7f37c4",
        "deepnote_to_be_reexecuted": false,
        "source_hash": "cff3a978",
        "execution_millis": 0,
        "execution_start": 1615321280733,
        "deepnote_cell_type": "code",
        "id": "9OzQZXTKfT8x"
      },
      "source": [
        "X = booking_data.drop([\"is_canceled\"],\n",
        "                      axis=1) "
      ],
      "id": "9OzQZXTKfT8x",
      "execution_count": 4,
      "outputs": []
    },
    {
      "cell_type": "markdown",
      "metadata": {
        "cell_id": "00009-e8ef94a3-0cd9-419a-83ca-71748397235a",
        "deepnote_cell_type": "markdown",
        "id": "uO1PV1mLfT8y"
      },
      "source": [
        "# Extract continuous and categorical columns\n",
        "\n",
        "Keeping track of continuous and categorical columns would allow us to treat these columns separately"
      ],
      "id": "uO1PV1mLfT8y"
    },
    {
      "cell_type": "code",
      "metadata": {
        "cell_id": "00010-7c7062ed-3602-4860-b4b3-dc936781f249",
        "deepnote_to_be_reexecuted": false,
        "source_hash": "45b54e17",
        "execution_millis": 0,
        "execution_start": 1615321280738,
        "deepnote_cell_type": "code",
        "id": "Fdt6uPdcfT8z"
      },
      "source": [
        "cat_columns = X.dtypes==object\n",
        "con_columns = ~cat_columns"
      ],
      "id": "Fdt6uPdcfT8z",
      "execution_count": 5,
      "outputs": []
    },
    {
      "cell_type": "markdown",
      "metadata": {
        "tags": [],
        "cell_id": "00011-a9b0aa07-cd5b-4355-b632-71dc01e92a30",
        "deepnote_cell_type": "markdown",
        "id": "5xrjNwQRfT80"
      },
      "source": [
        "# Identify columns to drop\n",
        "\n",
        "The columns `reservation_status` and `reservation_status_date` are updated after the booking has been cancelled. Drop these columns along with the target to avoid data leakage. Also drop columns `company` (95% of the values are missing) and `agent` (not useful). "
      ],
      "id": "5xrjNwQRfT80"
    },
    {
      "cell_type": "code",
      "metadata": {
        "tags": [],
        "cell_id": "00011-1718d24d-7640-47a8-8418-6c0c6e966e48",
        "deepnote_to_be_reexecuted": false,
        "source_hash": "c6e51e33",
        "execution_millis": 0,
        "execution_start": 1615321280747,
        "deepnote_cell_type": "code",
        "id": "XoEB3jJ7fT80"
      },
      "source": [
        "cat_columns [[\"company\", \"agent\", \"reservation_status\", \"reservation_status_date\"]] = False\n",
        "con_columns [[\"company\", \"agent\", \"reservation_status\", \"reservation_status_date\"]] = False"
      ],
      "id": "XoEB3jJ7fT80",
      "execution_count": 6,
      "outputs": []
    },
    {
      "cell_type": "markdown",
      "metadata": {
        "cell_id": "00011-86936a58-0b56-438f-bda6-1df064b147e9",
        "deepnote_cell_type": "markdown",
        "id": "ynMHQZ4tfT81"
      },
      "source": [
        "# Split the data into train and test datasets\n",
        "\n",
        "The `random_state` variable is set to 42 to ensure reproducibility of results."
      ],
      "id": "ynMHQZ4tfT81"
    },
    {
      "cell_type": "code",
      "metadata": {
        "cell_id": "00012-c14908d2-3e7c-4c38-9c78-0fbe1687b156",
        "deepnote_to_be_reexecuted": false,
        "source_hash": "256f7d2f",
        "execution_millis": 54,
        "execution_start": 1615321280749,
        "deepnote_cell_type": "code",
        "id": "yF4fRu7WfT82"
      },
      "source": [
        "X_train, X_test, y_train, y_test = train_test_split(X, y, test_size=0.25, random_state=42)\n"
      ],
      "id": "yF4fRu7WfT82",
      "execution_count": 7,
      "outputs": []
    },
    {
      "cell_type": "markdown",
      "metadata": {
        "cell_id": "00013-0c249196-69c9-40bb-a7c9-e17e36a2185c",
        "deepnote_cell_type": "markdown",
        "id": "ahPgFR1DfT83"
      },
      "source": [
        "# Build categorical and continuous pipelines"
      ],
      "id": "ahPgFR1DfT83"
    },
    {
      "cell_type": "code",
      "metadata": {
        "cell_id": "00014-dcb63157-9188-4011-a2e4-7600c9626472",
        "deepnote_to_be_reexecuted": false,
        "source_hash": "4675082a",
        "execution_millis": 1,
        "execution_start": 1615321280808,
        "deepnote_cell_type": "code",
        "id": "sue5sp5lfT83"
      },
      "source": [
        "cat_pipe = Pipeline([(\"cat_imputer\", SimpleImputer(missing_values=np.nan,\n",
        "                                              strategy=\"most_frequent\")),\n",
        "                     (\"ohe\", OneHotEncoder(handle_unknown=\"ignore\"))])\n",
        "\n",
        "con_pipe = Pipeline([(\"con_imputer\", SimpleImputer(missing_values=np.nan,\n",
        "                                                  strategy=\"median\")),\n",
        "                    (\"scaler\", StandardScaler())])\n",
        "\n",
        "preprocessing = ColumnTransformer([(\"categorical\", cat_pipe, cat_columns),\n",
        "                                  (\"continuous\", con_pipe, con_columns)],\n",
        "                                 remainder=\"drop\")"
      ],
      "id": "sue5sp5lfT83",
      "execution_count": 8,
      "outputs": []
    },
    {
      "cell_type": "markdown",
      "metadata": {
        "cell_id": "00015-623c9c03-cc2a-4be6-aa5f-c33ededc5ba5",
        "deepnote_cell_type": "markdown",
        "id": "M5a15EKEfT84"
      },
      "source": [
        "# Fit models"
      ],
      "id": "M5a15EKEfT84"
    },
    {
      "cell_type": "markdown",
      "metadata": {
        "cell_id": "00016-6df59b34-97d3-4fbd-a1b1-da5842c5da31",
        "deepnote_cell_type": "markdown",
        "id": "kSLHoAK8fT85"
      },
      "source": [
        "## Model 1: Random Forest"
      ],
      "id": "kSLHoAK8fT85"
    },
    {
      "cell_type": "markdown",
      "metadata": {
        "cell_id": "00017-2c9a7534-eb6a-4a05-afcc-fa1f234c90ba",
        "deepnote_cell_type": "markdown",
        "id": "KqxWq9oAfT85"
      },
      "source": [
        "### Build pipeline"
      ],
      "id": "KqxWq9oAfT85"
    },
    {
      "cell_type": "code",
      "metadata": {
        "cell_id": "00018-56cd2306-bfad-428b-89bb-bba13e18ce7e",
        "deepnote_to_be_reexecuted": false,
        "source_hash": "62643cf5",
        "execution_millis": 2,
        "execution_start": 1615321280815,
        "deepnote_cell_type": "code",
        "id": "R5CTqc2FfT85"
      },
      "source": [
        "pipe = Pipeline([(\"preprocessing\", preprocessing),\n",
        "                (\"rf\", RandomForestClassifier())])"
      ],
      "id": "R5CTqc2FfT85",
      "execution_count": 9,
      "outputs": []
    },
    {
      "cell_type": "markdown",
      "metadata": {
        "cell_id": "00019-0f56c24b-80ea-4dbf-b4a9-40b11c79c3ec",
        "deepnote_cell_type": "markdown",
        "id": "YpRavBFWfT86"
      },
      "source": [
        "### Initialize the search space for model hyperparameters\n"
      ],
      "id": "YpRavBFWfT86"
    },
    {
      "cell_type": "code",
      "metadata": {
        "cell_id": "00020-99eb7176-6aaf-444a-a3fe-350060987bc9",
        "deepnote_to_be_reexecuted": false,
        "source_hash": "f218f5d4",
        "execution_millis": 41,
        "execution_start": 1615321280817,
        "deepnote_cell_type": "code",
        "id": "VMh3O2lffT86"
      },
      "source": [
        "rf_hyperparams = {\"rf__n_estimators\": [10,20,50], # number of trees used in random forest, very high values could lead to overfitting\n",
        "                 \"rf__max_depth\": [5, 10,15], # max depth of each tree, if the depth is too low, the accuracy is poor\n",
        "                 \"rf__criterion\": [\"gini\", \"entropy\"], # to check whether impurity or information gain is the best way to split\n",
        "                 \"rf__min_samples_leaf\": [3,5,10], # minimum samples beyond which a node cannot be split, higher values imply more generality\n",
        "                 \"rf__max_features\": [\"sqrt\", \"log2\"], # to check what is the best way limit the number of features to each tree\n",
        "                 \"rf__bootstrap\": [True, False]} # to check whether bagging and aggregating results in a better model "
      ],
      "id": "VMh3O2lffT86",
      "execution_count": 10,
      "outputs": []
    },
    {
      "cell_type": "markdown",
      "metadata": {
        "tags": [],
        "cell_id": "00021-21743ea0-e378-44aa-b001-d6fab7d94ab6",
        "deepnote_cell_type": "markdown",
        "id": "o3iRftQSfT87"
      },
      "source": [
        "### Initialize the metrics used for scoring\n",
        "\n",
        "The primary metric used for scoring the classification model is Balanced Accuracy Score. This metric was chosen because it captures both recall of each class in a single metric and accounts for imbalance in the dataset. \n",
        "\n",
        "Other metrics considered were precision score and recall score to look at precision and recall individually as well as the f1 score to capture both. "
      ],
      "id": "o3iRftQSfT87"
    },
    {
      "cell_type": "code",
      "metadata": {
        "cell_id": "00021-c01c5f12-a351-4c38-ad0c-387c91917dd3",
        "deepnote_to_be_reexecuted": false,
        "source_hash": "181cad22",
        "execution_millis": 1,
        "execution_start": 1615321280859,
        "deepnote_cell_type": "code",
        "id": "CtJKL3uVfT87"
      },
      "source": [
        "f1_wtd = make_scorer(f1_score, average=\"weighted\")\n",
        "pr_wtd = make_scorer(precision_score, average=\"weighted\")\n",
        "bal_acc_score = make_scorer(balanced_accuracy_score)\n",
        "recall_wtd = make_scorer(recall_score, average = \"weighted\")\n",
        "\n",
        "scoring_dict = {\"bal_acc_score\": bal_acc_score,\n",
        "            \"f1_wtd\": f1_wtd,\n",
        "            \"pr_wtd\": pr_wtd,\n",
        "            \"recall_wtd\": recall_wtd}"
      ],
      "id": "CtJKL3uVfT87",
      "execution_count": 11,
      "outputs": []
    },
    {
      "cell_type": "markdown",
      "metadata": {
        "cell_id": "00022-9d02189f-741d-4203-b491-1b3b9e1cf922",
        "deepnote_cell_type": "markdown",
        "id": "cnkEUbLpfT87"
      },
      "source": [
        "### Fit models"
      ],
      "id": "cnkEUbLpfT87"
    },
    {
      "cell_type": "code",
      "metadata": {
        "cell_id": "00023-5bd5a13d-6479-40af-b35a-72e3048b2c7e",
        "deepnote_to_be_reexecuted": false,
        "source_hash": "5672676c",
        "execution_millis": 0,
        "execution_start": 1615321280860,
        "deepnote_cell_type": "code",
        "id": "7Yd5BK2ofT88"
      },
      "source": [
        "rscv = RandomizedSearchCV(estimator=pipe,\n",
        "                    param_distributions=rf_hyperparams,\n",
        "                    n_iter = 10,\n",
        "                    scoring = scoring_dict,\n",
        "                    refit = \"bal_acc_score\",\n",
        "                    n_jobs = -1,\n",
        "                    cv = 5,\n",
        "                    random_state=42)"
      ],
      "id": "7Yd5BK2ofT88",
      "execution_count": 12,
      "outputs": []
    },
    {
      "cell_type": "code",
      "metadata": {
        "cell_id": "00024-25738f23-1f27-40cc-ac63-14ff06691dcd",
        "deepnote_to_be_reexecuted": false,
        "source_hash": "6cb1b5a6",
        "execution_millis": 101372,
        "execution_start": 1615321280861,
        "deepnote_cell_type": "code",
        "id": "kf7LnL60fT88"
      },
      "source": [
        "result = rscv.fit(X_train, y_train)"
      ],
      "id": "kf7LnL60fT88",
      "execution_count": 13,
      "outputs": []
    },
    {
      "cell_type": "markdown",
      "metadata": {
        "cell_id": "00025-5ea9442a-8e29-4366-8287-dd6c55fdf236",
        "deepnote_cell_type": "markdown",
        "id": "JYN0dfOQfT89"
      },
      "source": [
        "### Print best hyperparameters"
      ],
      "id": "JYN0dfOQfT89"
    },
    {
      "cell_type": "code",
      "metadata": {
        "cell_id": "00026-5f958124-035b-40d2-9e51-5df48fc67020",
        "deepnote_to_be_reexecuted": false,
        "source_hash": "295f366f",
        "execution_millis": 7,
        "execution_start": 1615321382233,
        "deepnote_cell_type": "code",
        "colab": {
          "base_uri": "https://localhost:8080/"
        },
        "id": "cMZQQWJvfT89",
        "outputId": "11d279fb-331a-4c4f-b6e4-d39cbb066120"
      },
      "source": [
        "\n",
        "print(result.best_params_)\n",
        "print(result.best_score_)"
      ],
      "id": "cMZQQWJvfT89",
      "execution_count": 14,
      "outputs": [
        {
          "output_type": "stream",
          "text": [
            "{'rf__n_estimators': 20, 'rf__min_samples_leaf': 10, 'rf__max_features': 'sqrt', 'rf__max_depth': 15, 'rf__criterion': 'entropy', 'rf__bootstrap': False}\n",
            "0.7912392732451157\n"
          ],
          "name": "stdout"
        }
      ]
    },
    {
      "cell_type": "markdown",
      "metadata": {
        "tags": [],
        "cell_id": "00028-f141bb98-dddf-48e8-bc19-5295f68cd99f",
        "deepnote_cell_type": "markdown",
        "id": "PDIX-6YSfT8_"
      },
      "source": [
        "Different options were chosen for Random Forests's number of estimators, minimum samples per leaf, criterion, rule for selecting the max number of features and the choice to bootstrap to explore the effect the construction of an ensemble has on this dataset. It was observed that a forest with greater depth is suited for this dataset. \n",
        "\n",
        "A balanced accuracy score of 0.79 means that the model can correctly identify 79% of the labels from each class (cancelled or not cancelled)."
      ],
      "id": "PDIX-6YSfT8_"
    },
    {
      "cell_type": "markdown",
      "metadata": {
        "cell_id": "00035-7c18efdc-c7ca-47f2-b84e-60214453b0e4",
        "deepnote_cell_type": "markdown",
        "id": "wsA3HCq_fT9A"
      },
      "source": [
        "## Model 2: Logistic Regression"
      ],
      "id": "wsA3HCq_fT9A"
    },
    {
      "cell_type": "markdown",
      "metadata": {
        "cell_id": "00036-59dc650c-0bc6-407b-a6ac-0e02a7419758",
        "deepnote_cell_type": "markdown",
        "id": "i7eCKQNGfT9A"
      },
      "source": [
        "### Build pipeline"
      ],
      "id": "i7eCKQNGfT9A"
    },
    {
      "cell_type": "code",
      "metadata": {
        "cell_id": "00037-bd340ebc-2683-45df-8e24-cb4d45a8c7d1",
        "deepnote_to_be_reexecuted": false,
        "source_hash": "2f47867b",
        "execution_millis": 0,
        "execution_start": 1615321382234,
        "deepnote_cell_type": "code",
        "id": "PpuQDZ9BfT9A"
      },
      "source": [
        "pipe = Pipeline([(\"preprocessing\", preprocessing),\n",
        "                (\"log_reg\", LogisticRegression())])"
      ],
      "id": "PpuQDZ9BfT9A",
      "execution_count": 15,
      "outputs": []
    },
    {
      "cell_type": "code",
      "metadata": {
        "cell_id": "00038-48fa505c-af0c-4464-b77a-bb670c375692",
        "deepnote_to_be_reexecuted": false,
        "source_hash": "370d2b63",
        "execution_millis": 1,
        "execution_start": 1615321382234,
        "deepnote_cell_type": "code",
        "id": "NTVoY4E_fT9B"
      },
      "source": [
        "log_reg_hyperparams = {\"log_reg__penalty\": ['l1','l2'], # to check which penalty is better suited for the dataset\n",
        "                      \"log_reg__fit_intercept\": [True],\n",
        "                      \"log_reg__C\": [0.001, 0.01, 0.1, 1, 10, 100, 1000], # to see the impact of strength of regularization\n",
        "                      \"log_reg__class_weight\": [\"balanced\"], # to account for imbalance in the dataset\n",
        "                      }"
      ],
      "id": "NTVoY4E_fT9B",
      "execution_count": 16,
      "outputs": []
    },
    {
      "cell_type": "code",
      "metadata": {
        "cell_id": "00039-c5800822-c6a8-4427-ad95-1652b94007d8",
        "deepnote_to_be_reexecuted": false,
        "source_hash": "a7e0fdf3",
        "execution_millis": 0,
        "execution_start": 1615321382279,
        "deepnote_cell_type": "code",
        "id": "WKSH2UGAfT9B"
      },
      "source": [
        "rscv = RandomizedSearchCV(estimator=pipe,\n",
        "                    param_distributions=log_reg_hyperparams,\n",
        "                    n_iter = 10,\n",
        "                    scoring = scoring_dict,\n",
        "                    refit = \"bal_acc_score\",\n",
        "                    n_jobs = -1,\n",
        "                    cv = 5,\n",
        "                    random_state=42)\n",
        "\n"
      ],
      "id": "WKSH2UGAfT9B",
      "execution_count": 17,
      "outputs": []
    },
    {
      "cell_type": "code",
      "metadata": {
        "scrolled": true,
        "cell_id": "00040-2264e893-abb0-4339-8eb1-98851f7c12be",
        "deepnote_to_be_reexecuted": false,
        "source_hash": "6cb1b5a6",
        "execution_millis": 42736,
        "execution_start": 1615321382279,
        "deepnote_cell_type": "code",
        "colab": {
          "base_uri": "https://localhost:8080/"
        },
        "id": "IXK6dUHCfT9D",
        "outputId": "2120883e-91cb-41b3-b873-69b3aa0eed0b"
      },
      "source": [
        "result = rscv.fit(X_train, y_train)"
      ],
      "id": "IXK6dUHCfT9D",
      "execution_count": 18,
      "outputs": [
        {
          "output_type": "stream",
          "text": [
            "/usr/local/lib/python3.7/dist-packages/sklearn/linear_model/_logistic.py:940: ConvergenceWarning: lbfgs failed to converge (status=1):\n",
            "STOP: TOTAL NO. of ITERATIONS REACHED LIMIT.\n",
            "\n",
            "Increase the number of iterations (max_iter) or scale the data as shown in:\n",
            "    https://scikit-learn.org/stable/modules/preprocessing.html\n",
            "Please also refer to the documentation for alternative solver options:\n",
            "    https://scikit-learn.org/stable/modules/linear_model.html#logistic-regression\n",
            "  extra_warning_msg=_LOGISTIC_SOLVER_CONVERGENCE_MSG)\n"
          ],
          "name": "stderr"
        }
      ]
    },
    {
      "cell_type": "code",
      "metadata": {
        "cell_id": "00041-bb082cd9-7d36-4bf3-9667-ec9ae53c81bd",
        "deepnote_to_be_reexecuted": false,
        "source_hash": "ffb73447",
        "execution_millis": 10,
        "execution_start": 1615321425014,
        "deepnote_cell_type": "code",
        "colab": {
          "base_uri": "https://localhost:8080/"
        },
        "id": "Q4Ec_SUIfT9D",
        "outputId": "d886f2b8-72f8-4ade-89f1-c89877746f63"
      },
      "source": [
        "print(result.best_params_)\n",
        "print(result.best_score_)"
      ],
      "id": "Q4Ec_SUIfT9D",
      "execution_count": 19,
      "outputs": [
        {
          "output_type": "stream",
          "text": [
            "{'log_reg__penalty': 'l2', 'log_reg__fit_intercept': True, 'log_reg__class_weight': 'balanced', 'log_reg__C': 1000}\n",
            "0.8041260772994334\n"
          ],
          "name": "stdout"
        }
      ]
    },
    {
      "cell_type": "markdown",
      "metadata": {
        "tags": [],
        "cell_id": "00038-f49b4193-a843-4a64-87dd-8393f5847e00",
        "deepnote_cell_type": "markdown",
        "id": "RE_EkHzkfT9I"
      },
      "source": [
        "Different values of logistic regression's C were explored to see the impact of the strength of regularization on the dataset. The value of 1000 for C indicates that regularization has little impact on this dataset. Also it was observed that l2 penalty is better suited for this dataset.\n",
        "\n",
        "A balanced accuracy score of 0.80 means that the model can correctly identify 80% of the labels from each class (cancelled or not cancelled)."
      ],
      "id": "RE_EkHzkfT9I"
    },
    {
      "cell_type": "markdown",
      "metadata": {
        "tags": [],
        "cell_id": "00042-c77ae9b6-5196-4744-866c-68b3a93c7090",
        "deepnote_cell_type": "markdown",
        "id": "Jg_leViUfT9I"
      },
      "source": [
        "# Choose final model\n",
        "Although the scores of both models are very similar, logistic regression was chosen because of the higher balanced accuracy score"
      ],
      "id": "Jg_leViUfT9I"
    },
    {
      "cell_type": "markdown",
      "metadata": {
        "tags": [],
        "cell_id": "00042-9dc3e3a1-2f22-44c0-a997-f193e4f3a014",
        "deepnote_cell_type": "markdown",
        "id": "t037AlStfT9J"
      },
      "source": [
        "# Fit the final model on training data"
      ],
      "id": "t037AlStfT9J"
    },
    {
      "cell_type": "code",
      "metadata": {
        "tags": [],
        "cell_id": "00044-94d1fd92-e5d5-4f7f-bde8-3ec0fa8fbc23",
        "deepnote_to_be_reexecuted": false,
        "source_hash": "fbe5803a",
        "execution_millis": 1867,
        "execution_start": 1615321425062,
        "deepnote_cell_type": "code",
        "colab": {
          "base_uri": "https://localhost:8080/"
        },
        "id": "iBiHMknyfT9J",
        "outputId": "6670543f-6bde-4d44-d278-9b48bb6c066b"
      },
      "source": [
        "pipe = result.best_estimator_\n",
        "model = pipe.fit(X_train, y_train)\n",
        "\n"
      ],
      "id": "iBiHMknyfT9J",
      "execution_count": 20,
      "outputs": [
        {
          "output_type": "stream",
          "text": [
            "/usr/local/lib/python3.7/dist-packages/sklearn/linear_model/_logistic.py:940: ConvergenceWarning: lbfgs failed to converge (status=1):\n",
            "STOP: TOTAL NO. of ITERATIONS REACHED LIMIT.\n",
            "\n",
            "Increase the number of iterations (max_iter) or scale the data as shown in:\n",
            "    https://scikit-learn.org/stable/modules/preprocessing.html\n",
            "Please also refer to the documentation for alternative solver options:\n",
            "    https://scikit-learn.org/stable/modules/linear_model.html#logistic-regression\n",
            "  extra_warning_msg=_LOGISTIC_SOLVER_CONVERGENCE_MSG)\n"
          ],
          "name": "stderr"
        }
      ]
    },
    {
      "cell_type": "code",
      "metadata": {
        "tags": [],
        "cell_id": "00043-e4f4ac0a-76b7-4038-a5b5-269c3956ad09",
        "deepnote_to_be_reexecuted": false,
        "source_hash": "941243d8",
        "execution_millis": 68,
        "execution_start": 1615321426931,
        "deepnote_cell_type": "code",
        "colab": {
          "base_uri": "https://localhost:8080/"
        },
        "id": "uyVoOlo8fT9K",
        "outputId": "cfbbf5ca-93fe-431d-ffdb-3d72c35a226e"
      },
      "source": [
        "# Print model hyper parameters\n",
        "model.get_params"
      ],
      "id": "uyVoOlo8fT9K",
      "execution_count": 21,
      "outputs": [
        {
          "output_type": "execute_result",
          "data": {
            "text/plain": [
              "<bound method Pipeline.get_params of Pipeline(memory=None,\n",
              "         steps=[('preprocessing',\n",
              "                 ColumnTransformer(n_jobs=None, remainder='drop',\n",
              "                                   sparse_threshold=0.3,\n",
              "                                   transformer_weights=None,\n",
              "                                   transformers=[('categorical',\n",
              "                                                  Pipeline(memory=None,\n",
              "                                                           steps=[('cat_imputer',\n",
              "                                                                   SimpleImputer(add_indicator=False,\n",
              "                                                                                 copy=True,\n",
              "                                                                                 fill_value=None,\n",
              "                                                                                 missing_values=nan,\n",
              "                                                                                 strategy='most_frequent',\n",
              "                                                                                 verbose=0)),\n",
              "                                                                  ('ohe',\n",
              "                                                                   OneHotEncoder(cat...\n",
              "reservation_status                False\n",
              "reservation_status_date           False\n",
              "dtype: bool)],\n",
              "                                   verbose=False)),\n",
              "                ('log_reg',\n",
              "                 LogisticRegression(C=1000, class_weight='balanced', dual=False,\n",
              "                                    fit_intercept=True, intercept_scaling=1,\n",
              "                                    l1_ratio=None, max_iter=100,\n",
              "                                    multi_class='auto', n_jobs=None,\n",
              "                                    penalty='l2', random_state=None,\n",
              "                                    solver='lbfgs', tol=0.0001, verbose=0,\n",
              "                                    warm_start=False))],\n",
              "         verbose=False)>"
            ]
          },
          "metadata": {
            "tags": []
          },
          "execution_count": 21
        }
      ]
    },
    {
      "cell_type": "markdown",
      "metadata": {
        "tags": [],
        "cell_id": "00044-1bf965a3-7483-4553-8616-b5084e353806",
        "deepnote_cell_type": "markdown",
        "id": "mnDc9A32fT9K"
      },
      "source": [
        "# Get predictions for the test data set"
      ],
      "id": "mnDc9A32fT9K"
    },
    {
      "cell_type": "code",
      "metadata": {
        "tags": [],
        "cell_id": "00044-2b7e42a2-69e3-4bea-9e0b-32d1ac086170",
        "deepnote_to_be_reexecuted": false,
        "source_hash": "1febaa2d",
        "execution_millis": 119,
        "execution_start": 1615321427001,
        "deepnote_cell_type": "code",
        "id": "eYipLEngfT9L"
      },
      "source": [
        "y_pred = model.predict(X_test)"
      ],
      "id": "eYipLEngfT9L",
      "execution_count": 22,
      "outputs": []
    },
    {
      "cell_type": "markdown",
      "metadata": {
        "tags": [],
        "cell_id": "00046-db6c0773-9437-436a-b1c3-cf632a768a5c",
        "deepnote_cell_type": "markdown",
        "id": "YYPOm8WhfT9L"
      },
      "source": [
        "# Get the metrics for final model "
      ],
      "id": "YYPOm8WhfT9L"
    },
    {
      "cell_type": "code",
      "metadata": {
        "tags": [],
        "cell_id": "00045-c0e702bb-68fd-4013-becf-5a8365556387",
        "deepnote_to_be_reexecuted": false,
        "source_hash": "cba997fc",
        "execution_millis": 68,
        "execution_start": 1615321427122,
        "deepnote_cell_type": "code",
        "colab": {
          "base_uri": "https://localhost:8080/"
        },
        "id": "BKqOCpSsfT9L",
        "outputId": "deea4390-fc94-4c16-d4b2-7bb80b6c1813"
      },
      "source": [
        "print(f\"Balanced accuracy score: {balanced_accuracy_score(y_test, y_pred): .4f}\")\n",
        "print(f\"Precision score: {precision_score(y_test, y_pred, average='weighted'):.4f}\")\n",
        "print(f\"Recall score: {recall_score(y_test, y_pred, average='weighted'):.4f}\")\n",
        "print(f\"F1 score: {f1_score(y_test, y_pred, average='weighted'):.4f}\")"
      ],
      "id": "BKqOCpSsfT9L",
      "execution_count": 23,
      "outputs": [
        {
          "output_type": "stream",
          "text": [
            "Balanced accuracy score:  0.8104\n",
            "Precision score: 0.8195\n",
            "Recall score: 0.8163\n",
            "F1 score: 0.8174\n"
          ],
          "name": "stdout"
        }
      ]
    },
    {
      "cell_type": "markdown",
      "metadata": {
        "tags": [],
        "cell_id": "00048-cccb25a7-78c9-4852-be0e-40d33ef29dcd",
        "deepnote_cell_type": "markdown",
        "id": "5tGdSv_1fT9M"
      },
      "source": [
        "- A balanced accuarcy score of 0.81 implies that the model can correctly predict 81% of the labels of each class.\n",
        "- A precision score of 0.82 implies that of all the cases wherein the model predicted that the booking will be cancelled, 82% were identified correctly.\n",
        "- A recall score of 0.82 implies that of all the cases wherein the booking was cancelled, the model correctly identified 82%.\n",
        "- An F1 score of 0.82, is the weighted average of precision and recall. Although not as intuitive as accuracy, a high f1 score indicates a good balance of precision and recall."
      ],
      "id": "5tGdSv_1fT9M"
    },
    {
      "cell_type": "markdown",
      "metadata": {
        "tags": [],
        "cell_id": "00048-b10526ef-406d-45d2-8156-05d679b318d7",
        "deepnote_cell_type": "markdown",
        "id": "5sIvSZ81fT9M"
      },
      "source": [
        "# Summary\n",
        "\n",
        "The logistic regression model proved to be a better choice to predict whether a hotel booking would be cancelled given the current and prior booking information about the type of hotel, room, customer, stay, payment status, etc. While the balanced accuracy score of the random forest model was only slightly lower, using an l2 penalty with logistic regression could have helped to avoid overfitting and improved the model's generality. \n",
        "\n",
        "This model can help the hotel management allocate the room to someone else if there's a possibility that a booking would be cancelled. A high balanced accuracy score indicates that while the management can avoid loss in revenue by allocating a booking (which is likely to get cancelled) to someone else, the management can also know when the booking is not likely to get cancelled with a reasonable amount of accuracy. This would reduce the chances of an event when a customer shows up only to find out their booking has been allocated to someone else, resulting in reputation and revenue loss for management.   "
      ],
      "id": "5sIvSZ81fT9M"
    },
    {
      "cell_type": "markdown",
      "metadata": {
        "tags": [],
        "cell_id": "00050-4df484a1-33b6-4ede-98b3-119a3981a7dd",
        "deepnote_cell_type": "markdown",
        "id": "VWtIR2DQfT9N"
      },
      "source": [
        "# Future directions\n",
        "\n",
        "By engineering more features, the number of days within which a booking is cancelled (if at all it is) can be predicted. This would enable the hotel management to devise their cancellation policies and aid in calculating cancellation fees. Real time weather data can also be used to improve model predictions. "
      ],
      "id": "VWtIR2DQfT9N"
    },
    {
      "cell_type": "markdown",
      "metadata": {
        "tags": [],
        "cell_id": "00051-d36b18b9-f1dd-4428-9238-c454ec4c728e",
        "deepnote_cell_type": "markdown",
        "id": "ciWrYNWefT9N"
      },
      "source": [
        ""
      ],
      "id": "ciWrYNWefT9N"
    },
    {
      "cell_type": "markdown",
      "metadata": {
        "tags": [],
        "created_in_deepnote_cell": true,
        "deepnote_cell_type": "markdown",
        "id": "-LtkMw7RfT9O"
      },
      "source": [
        "<a style='text-decoration:none;line-height:16px;display:flex;color:#5B5B62;padding:10px;justify-content:end;' href='https://deepnote.com?utm_source=created-in-deepnote-cell&projectId=ddc61a58-e71d-4541-81d3-ede4d6669fe3' target=\"_blank\">\n",
        "<img style='display:inline;max-height:16px;margin:0px;margin-right:7.5px;' src='data:image/svg+xml;base64,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' > </img>\n",
        "Created in <span style='font-weight:600;margin-left:4px;'>Deepnote</span></a>"
      ],
      "id": "-LtkMw7RfT9O"
    }
  ]
}