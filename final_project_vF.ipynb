{
  "cells": [
    {
      "cell_type": "markdown",
      "source": "# Import Libraries",
      "metadata": {
        "cell_id": "00000-b699ce1f-8a52-4bc4-a6d2-7e909ccadc90",
        "deepnote_cell_type": "markdown"
      }
    },
    {
      "cell_type": "code",
      "metadata": {
        "cell_id": "00001-e2fa8da7-de88-4ce6-89fa-35d05f86c21c",
        "deepnote_to_be_reexecuted": false,
        "source_hash": "d8ecf0af",
        "execution_millis": 670,
        "execution_start": 1615272421130,
        "deepnote_cell_type": "code"
      },
      "source": "import numpy as np\nimport pandas as pd\nfrom category_encoders import *\nfrom sklearn.compose import *\nfrom sklearn.ensemble import RandomForestClassifier, ExtraTreesClassifier, IsolationForest\nfrom sklearn.experimental import enable_iterative_imputer\nfrom sklearn.impute import *\nfrom sklearn.linear_model import LogisticRegression, PassiveAggressiveClassifier, RidgeClassifier, SGDClassifier\nfrom sklearn.metrics import make_scorer, balanced_accuracy_score, f1_score,  precision_score, recall_score, confusion_matrix\nfrom sklearn.pipeline import Pipeline\nfrom sklearn.preprocessing import *\nfrom sklearn.tree import DecisionTreeClassifier, ExtraTreeClassifier\nfrom sklearn.model_selection import RandomizedSearchCV, GridSearchCV\nfrom sklearn.model_selection import train_test_split",
      "execution_count": 1,
      "outputs": []
    },
    {
      "cell_type": "markdown",
      "source": "# Load data",
      "metadata": {
        "cell_id": "00002-0cab5ddc-23f3-4667-943e-bddd4c87799c",
        "deepnote_cell_type": "markdown"
      }
    },
    {
      "cell_type": "code",
      "metadata": {
        "cell_id": "00003-84ccb5d6-22aa-4642-9da3-c6b885c183ef",
        "deepnote_to_be_reexecuted": false,
        "source_hash": "2901601b",
        "execution_millis": 282,
        "execution_start": 1615272421805,
        "deepnote_cell_type": "code"
      },
      "source": "booking_data = pd.read_csv(\"hotel_bookings.csv\")",
      "execution_count": 2,
      "outputs": []
    },
    {
      "cell_type": "markdown",
      "source": "# Extract Target",
      "metadata": {
        "cell_id": "00004-c9d85380-eee9-4cf0-b208-d4b1913bcf85",
        "deepnote_cell_type": "markdown"
      }
    },
    {
      "cell_type": "code",
      "metadata": {
        "cell_id": "00005-e494c422-4e0a-4417-81fa-bf78bcddb387",
        "deepnote_to_be_reexecuted": false,
        "source_hash": "c7e76258",
        "execution_millis": 2,
        "execution_start": 1615272422090,
        "deepnote_cell_type": "code"
      },
      "source": "y = booking_data[\"is_canceled\"] # extract target",
      "execution_count": 3,
      "outputs": []
    },
    {
      "cell_type": "code",
      "metadata": {
        "cell_id": "00008-ef60637b-f2cd-49c2-a8c2-2d072f7f37c4",
        "deepnote_to_be_reexecuted": false,
        "source_hash": "cff3a978",
        "execution_millis": 3,
        "execution_start": 1615272422114,
        "deepnote_cell_type": "code"
      },
      "source": "X = booking_data.drop([\"is_canceled\"],\n                      axis=1) ",
      "execution_count": 4,
      "outputs": []
    },
    {
      "cell_type": "markdown",
      "source": "# Extract continuous and categorical columns\n\nKeeping track of continuous and categorical columns would allow us to treat these columns separately",
      "metadata": {
        "cell_id": "00009-e8ef94a3-0cd9-419a-83ca-71748397235a",
        "deepnote_cell_type": "markdown"
      }
    },
    {
      "cell_type": "code",
      "metadata": {
        "cell_id": "00010-7c7062ed-3602-4860-b4b3-dc936781f249",
        "deepnote_to_be_reexecuted": false,
        "source_hash": "45b54e17",
        "execution_millis": 3,
        "execution_start": 1615272422119,
        "deepnote_cell_type": "code"
      },
      "source": "cat_columns = X.dtypes==object\ncon_columns = ~cat_columns",
      "execution_count": 5,
      "outputs": []
    },
    {
      "cell_type": "markdown",
      "source": "# Identify columns to drop\n\nThe columns `reservation_status` and `reservation_status_date` are updated after the booking has been cancelled. Drop these columns along with the target to avoid data leakage. Also drop columns `company` (95% of the values are missing) and `agent` (not useful). ",
      "metadata": {
        "tags": [],
        "cell_id": "00011-a9b0aa07-cd5b-4355-b632-71dc01e92a30",
        "deepnote_cell_type": "markdown"
      }
    },
    {
      "cell_type": "code",
      "source": "cat_columns [[\"company\", \"agent\", \"reservation_status\", \"reservation_status_date\"]] = False\ncon_columns [[\"company\", \"agent\", \"reservation_status\", \"reservation_status_date\"]] = False",
      "metadata": {
        "tags": [],
        "cell_id": "00011-1718d24d-7640-47a8-8418-6c0c6e966e48",
        "deepnote_to_be_reexecuted": false,
        "source_hash": "c6e51e33",
        "execution_millis": 2,
        "execution_start": 1615272422124,
        "deepnote_cell_type": "code"
      },
      "outputs": [],
      "execution_count": 6
    },
    {
      "cell_type": "markdown",
      "source": "# Split the data into train and test datasets\n\nThe `random_state` variable is set to 42 to ensure reproducibility of results.",
      "metadata": {
        "cell_id": "00011-86936a58-0b56-438f-bda6-1df064b147e9",
        "deepnote_cell_type": "markdown"
      }
    },
    {
      "cell_type": "code",
      "metadata": {
        "cell_id": "00012-c14908d2-3e7c-4c38-9c78-0fbe1687b156",
        "deepnote_to_be_reexecuted": false,
        "source_hash": "256f7d2f",
        "execution_millis": 56,
        "execution_start": 1615272422128,
        "deepnote_cell_type": "code"
      },
      "source": "X_train, X_test, y_train, y_test = train_test_split(X, y, test_size=0.25, random_state=42)\n",
      "execution_count": 7,
      "outputs": []
    },
    {
      "cell_type": "markdown",
      "source": "# Build categorical and continuous pipelines",
      "metadata": {
        "cell_id": "00013-0c249196-69c9-40bb-a7c9-e17e36a2185c",
        "deepnote_cell_type": "markdown"
      }
    },
    {
      "cell_type": "code",
      "metadata": {
        "cell_id": "00014-dcb63157-9188-4011-a2e4-7600c9626472",
        "deepnote_to_be_reexecuted": false,
        "source_hash": "4675082a",
        "execution_millis": 16,
        "execution_start": 1615272422187,
        "deepnote_cell_type": "code"
      },
      "source": "cat_pipe = Pipeline([(\"cat_imputer\", SimpleImputer(missing_values=np.nan,\n                                              strategy=\"most_frequent\")),\n                     (\"ohe\", OneHotEncoder(handle_unknown=\"ignore\"))])\n\ncon_pipe = Pipeline([(\"con_imputer\", SimpleImputer(missing_values=np.nan,\n                                                  strategy=\"median\")),\n                    (\"scaler\", StandardScaler())])\n\npreprocessing = ColumnTransformer([(\"categorical\", cat_pipe, cat_columns),\n                                  (\"continuous\", con_pipe, con_columns)],\n                                 remainder=\"drop\")",
      "execution_count": 8,
      "outputs": []
    },
    {
      "cell_type": "markdown",
      "source": "# Fit models",
      "metadata": {
        "cell_id": "00015-623c9c03-cc2a-4be6-aa5f-c33ededc5ba5",
        "deepnote_cell_type": "markdown"
      }
    },
    {
      "cell_type": "markdown",
      "source": "## Model 1: Random Forest",
      "metadata": {
        "cell_id": "00016-6df59b34-97d3-4fbd-a1b1-da5842c5da31",
        "deepnote_cell_type": "markdown"
      }
    },
    {
      "cell_type": "markdown",
      "source": "### Build pipeline",
      "metadata": {
        "cell_id": "00017-2c9a7534-eb6a-4a05-afcc-fa1f234c90ba",
        "deepnote_cell_type": "markdown"
      }
    },
    {
      "cell_type": "code",
      "metadata": {
        "cell_id": "00018-56cd2306-bfad-428b-89bb-bba13e18ce7e",
        "deepnote_to_be_reexecuted": false,
        "source_hash": "62643cf5",
        "execution_millis": 0,
        "execution_start": 1615272422204,
        "deepnote_cell_type": "code"
      },
      "source": "pipe = Pipeline([(\"preprocessing\", preprocessing),\n                (\"rf\", RandomForestClassifier())])",
      "execution_count": 9,
      "outputs": []
    },
    {
      "cell_type": "markdown",
      "source": "### Initialize the search space for model hyperparameters\n",
      "metadata": {
        "cell_id": "00019-0f56c24b-80ea-4dbf-b4a9-40b11c79c3ec",
        "deepnote_cell_type": "markdown"
      }
    },
    {
      "cell_type": "code",
      "metadata": {
        "cell_id": "00020-99eb7176-6aaf-444a-a3fe-350060987bc9",
        "deepnote_to_be_reexecuted": false,
        "source_hash": "f218f5d4",
        "execution_millis": 0,
        "execution_start": 1615272422204,
        "deepnote_cell_type": "code"
      },
      "source": "rf_hyperparams = {\"rf__n_estimators\": [10,20,50], # number of trees used in random forest, very high values could lead to overfitting\n                 \"rf__max_depth\": [5, 10,15], # max depth of each tree, if the depth is too low, the accuracy is poor\n                 \"rf__criterion\": [\"gini\", \"entropy\"], # to check whether impurity or information gain is the best way to split\n                 \"rf__min_samples_leaf\": [3,5,10], # minimum samples beyond which a node cannot be split, higher values imply more generality\n                 \"rf__max_features\": [\"sqrt\", \"log2\"], # to check what is the best way limit the number of features to each tree\n                 \"rf__bootstrap\": [True, False]} # to check whether bagging and aggregating results in a better model ",
      "execution_count": 10,
      "outputs": []
    },
    {
      "cell_type": "markdown",
      "source": "### Initialize the metrics used for scoring\n\nThe primary metric used for scoring the classification model is Balanced Accuracy Score. This metric was chosen because it captures both recall of each class in a single metric and accounts for imbalance in the dataset. \n\nOther metrics considered were precision score and recall score to look at precision and recall individually as well as the f1 score to capture both. ",
      "metadata": {
        "tags": [],
        "cell_id": "00021-21743ea0-e378-44aa-b001-d6fab7d94ab6",
        "deepnote_cell_type": "markdown"
      }
    },
    {
      "cell_type": "code",
      "metadata": {
        "cell_id": "00021-c01c5f12-a351-4c38-ad0c-387c91917dd3",
        "deepnote_to_be_reexecuted": false,
        "source_hash": "181cad22",
        "execution_millis": 2,
        "execution_start": 1615272422205,
        "deepnote_cell_type": "code"
      },
      "source": "f1_wtd = make_scorer(f1_score, average=\"weighted\")\npr_wtd = make_scorer(precision_score, average=\"weighted\")\nbal_acc_score = make_scorer(balanced_accuracy_score)\nrecall_wtd = make_scorer(recall_score, average = \"weighted\")\n\nscoring_dict = {\"bal_acc_score\": bal_acc_score,\n            \"f1_wtd\": f1_wtd,\n            \"pr_wtd\": pr_wtd,\n            \"recall_wtd\": recall_wtd}",
      "execution_count": 11,
      "outputs": []
    },
    {
      "cell_type": "markdown",
      "source": "### Fit models",
      "metadata": {
        "cell_id": "00022-9d02189f-741d-4203-b491-1b3b9e1cf922",
        "deepnote_cell_type": "markdown"
      }
    },
    {
      "cell_type": "code",
      "metadata": {
        "cell_id": "00023-5bd5a13d-6479-40af-b35a-72e3048b2c7e",
        "deepnote_to_be_reexecuted": false,
        "source_hash": "5672676c",
        "execution_millis": 3,
        "execution_start": 1615272422208,
        "deepnote_cell_type": "code"
      },
      "source": "rscv = RandomizedSearchCV(estimator=pipe,\n                    param_distributions=rf_hyperparams,\n                    n_iter = 10,\n                    scoring = scoring_dict,\n                    refit = \"bal_acc_score\",\n                    n_jobs = -1,\n                    cv = 5,\n                    random_state=42)",
      "execution_count": 12,
      "outputs": []
    },
    {
      "cell_type": "code",
      "metadata": {
        "cell_id": "00024-25738f23-1f27-40cc-ac63-14ff06691dcd",
        "deepnote_to_be_reexecuted": false,
        "source_hash": "6cb1b5a6",
        "execution_millis": 98527,
        "execution_start": 1615272422213,
        "deepnote_cell_type": "code"
      },
      "source": "result = rscv.fit(X_train, y_train)",
      "execution_count": 13,
      "outputs": []
    },
    {
      "cell_type": "markdown",
      "source": "### Print best hyperparameters",
      "metadata": {
        "cell_id": "00025-5ea9442a-8e29-4366-8287-dd6c55fdf236",
        "deepnote_cell_type": "markdown"
      }
    },
    {
      "cell_type": "code",
      "metadata": {
        "cell_id": "00026-5f958124-035b-40d2-9e51-5df48fc67020",
        "deepnote_to_be_reexecuted": false,
        "source_hash": "295f366f",
        "execution_millis": 5,
        "execution_start": 1615272520757,
        "deepnote_cell_type": "code"
      },
      "source": "\nprint(result.best_params_)\nprint(result.best_score_)",
      "execution_count": 14,
      "outputs": [
        {
          "name": "stdout",
          "text": "{'rf__n_estimators': 10, 'rf__min_samples_leaf': 5, 'rf__max_features': 'sqrt', 'rf__max_depth': 15, 'rf__criterion': 'entropy', 'rf__bootstrap': False}\n0.7868118286166703\n",
          "output_type": "stream"
        }
      ]
    },
    {
      "cell_type": "markdown",
      "source": "Different options were chosen for Random Forests's number of estimators, minimum samples per leaf, criterion, rule for selecting the max number of features and the choice to bootstrap to explore the effect the construction of an ensemble has on this dataset. It was observed that a forest with greater depth is suited for this dataset. \n\nA balanced accuracy score of 0.79 means that the model can correctly identify 79% of the labels from each class (cancelled or not cancelled).",
      "metadata": {
        "tags": [],
        "cell_id": "00028-f141bb98-dddf-48e8-bc19-5295f68cd99f",
        "deepnote_cell_type": "markdown"
      }
    },
    {
      "cell_type": "markdown",
      "source": "### Extract the best hyperparameters",
      "metadata": {
        "cell_id": "00027-4e047042-3463-4b37-9c76-b2f38244b442",
        "deepnote_cell_type": "markdown"
      }
    },
    {
      "cell_type": "code",
      "metadata": {
        "cell_id": "00028-1c8d5ddb-2f8f-4ce0-819d-49dcb23bbbff",
        "deepnote_to_be_reexecuted": false,
        "source_hash": "e1592335",
        "execution_millis": 4,
        "execution_start": 1615272520758,
        "deepnote_cell_type": "code"
      },
      "source": "rf_bestparams = {}\nfor (key,value) in result.best_params_.items():\n    rf_bestparams[key.partition(\"__\")[2]] = value\n\nprint(rf_bestparams)",
      "execution_count": 15,
      "outputs": [
        {
          "name": "stdout",
          "text": "{'n_estimators': 10, 'min_samples_leaf': 5, 'max_features': 'sqrt', 'max_depth': 15, 'criterion': 'entropy', 'bootstrap': False}\n",
          "output_type": "stream"
        }
      ]
    },
    {
      "cell_type": "markdown",
      "source": "## Model 2: Logistic Regression",
      "metadata": {
        "cell_id": "00035-7c18efdc-c7ca-47f2-b84e-60214453b0e4",
        "deepnote_cell_type": "markdown"
      }
    },
    {
      "cell_type": "markdown",
      "source": "### Build pipeline",
      "metadata": {
        "cell_id": "00036-59dc650c-0bc6-407b-a6ac-0e02a7419758",
        "deepnote_cell_type": "markdown"
      }
    },
    {
      "cell_type": "code",
      "metadata": {
        "cell_id": "00037-bd340ebc-2683-45df-8e24-cb4d45a8c7d1",
        "deepnote_to_be_reexecuted": false,
        "source_hash": "2f47867b",
        "execution_millis": 39,
        "execution_start": 1615272520759,
        "deepnote_cell_type": "code"
      },
      "source": "pipe = Pipeline([(\"preprocessing\", preprocessing),\n                (\"log_reg\", LogisticRegression())])",
      "execution_count": 16,
      "outputs": []
    },
    {
      "cell_type": "code",
      "metadata": {
        "cell_id": "00038-48fa505c-af0c-4464-b77a-bb670c375692",
        "deepnote_to_be_reexecuted": false,
        "source_hash": "370d2b63",
        "execution_millis": 0,
        "execution_start": 1615272520799,
        "deepnote_cell_type": "code"
      },
      "source": "log_reg_hyperparams = {\"log_reg__penalty\": ['l1','l2'], # to check which penalty is better suited for the dataset\n                      \"log_reg__fit_intercept\": [True],\n                      \"log_reg__C\": [0.001, 0.01, 0.1, 1, 10, 100, 1000], # to see the impact of strength of regularization\n                      \"log_reg__class_weight\": [\"balanced\"], # to account for imbalance in the dataset\n                      }",
      "execution_count": 17,
      "outputs": []
    },
    {
      "cell_type": "code",
      "metadata": {
        "cell_id": "00039-c5800822-c6a8-4427-ad95-1652b94007d8",
        "deepnote_to_be_reexecuted": false,
        "source_hash": "a7e0fdf3",
        "execution_millis": 0,
        "execution_start": 1615272520800,
        "deepnote_cell_type": "code"
      },
      "source": "rscv = RandomizedSearchCV(estimator=pipe,\n                    param_distributions=log_reg_hyperparams,\n                    n_iter = 10,\n                    scoring = scoring_dict,\n                    refit = \"bal_acc_score\",\n                    n_jobs = -1,\n                    cv = 5,\n                    random_state=42)\n\n",
      "execution_count": 18,
      "outputs": []
    },
    {
      "cell_type": "code",
      "metadata": {
        "scrolled": true,
        "cell_id": "00040-2264e893-abb0-4339-8eb1-98851f7c12be",
        "deepnote_to_be_reexecuted": false,
        "source_hash": "6cb1b5a6",
        "execution_millis": 42795,
        "execution_start": 1615272520800,
        "deepnote_cell_type": "code"
      },
      "source": "result = rscv.fit(X_train, y_train)",
      "execution_count": 19,
      "outputs": [
        {
          "name": "stderr",
          "text": "/shared-libs/python3.7/py/lib/python3.7/site-packages/sklearn/model_selection/_search.py:921: UserWarning: One or more of the test scores are non-finite: [0.80390462 0.80392968        nan        nan 0.80347797        nan\n        nan 0.79652246 0.80412608        nan]\n  category=UserWarning\n/shared-libs/python3.7/py/lib/python3.7/site-packages/sklearn/model_selection/_search.py:921: UserWarning: One or more of the test scores are non-finite: [0.81079191 0.81090789        nan        nan 0.81047762        nan\n        nan 0.80560316 0.8110583         nan]\n  category=UserWarning\n/shared-libs/python3.7/py/lib/python3.7/site-packages/sklearn/model_selection/_search.py:921: UserWarning: One or more of the test scores are non-finite: [0.8136919  0.81374955        nan        nan 0.81332932        nan\n        nan 0.80754929 0.81391621        nan]\n  category=UserWarning\n/shared-libs/python3.7/py/lib/python3.7/site-packages/sklearn/model_selection/_search.py:921: UserWarning: One or more of the test scores are non-finite: [0.80939669 0.80953071        nan        nan 0.80909516        nan\n        nan 0.804494   0.80967589        nan]\n  category=UserWarning\n/shared-libs/python3.7/py/lib/python3.7/site-packages/sklearn/linear_model/_logistic.py:765: ConvergenceWarning: lbfgs failed to converge (status=1):\nSTOP: TOTAL NO. of ITERATIONS REACHED LIMIT.\n\nIncrease the number of iterations (max_iter) or scale the data as shown in:\n    https://scikit-learn.org/stable/modules/preprocessing.html\nPlease also refer to the documentation for alternative solver options:\n    https://scikit-learn.org/stable/modules/linear_model.html#logistic-regression\n  extra_warning_msg=_LOGISTIC_SOLVER_CONVERGENCE_MSG)\n",
          "output_type": "stream"
        }
      ]
    },
    {
      "cell_type": "code",
      "metadata": {
        "cell_id": "00041-bb082cd9-7d36-4bf3-9667-ec9ae53c81bd",
        "deepnote_to_be_reexecuted": false,
        "source_hash": "ffb73447",
        "execution_millis": 23,
        "execution_start": 1615272563599,
        "deepnote_cell_type": "code"
      },
      "source": "print(result.best_params_)\nprint(result.best_score_)",
      "execution_count": 20,
      "outputs": [
        {
          "name": "stdout",
          "text": "{'log_reg__penalty': 'l2', 'log_reg__fit_intercept': True, 'log_reg__class_weight': 'balanced', 'log_reg__C': 1000}\n0.8041260772994334\n",
          "output_type": "stream"
        }
      ]
    },
    {
      "cell_type": "markdown",
      "source": "Different values of logistic regression's C were explored to see the impact of the strength of regularization on the dataset. The value of 1000 for C indicates that regularization has little impact on this dataset. Also it was observed that l2 penalty is better suited for this dataset.\n\nA balanced accuracy score of 0.80 means that the model can correctly identify 80% of the labels from each class (cancelled or not cancelled).",
      "metadata": {
        "tags": [],
        "cell_id": "00038-f49b4193-a843-4a64-87dd-8393f5847e00",
        "deepnote_cell_type": "markdown"
      }
    },
    {
      "cell_type": "code",
      "metadata": {
        "cell_id": "00042-23856586-a6c9-4e60-bc14-5bb39c2bf298",
        "deepnote_to_be_reexecuted": false,
        "source_hash": "30783411",
        "execution_millis": 22,
        "execution_start": 1615272563600,
        "deepnote_cell_type": "code"
      },
      "source": "logreg_bestparams = {}\nfor (key,value) in result.best_params_.items():\n    logreg_bestparams[key.partition(\"__\")[2]] = value\n\nprint(logreg_bestparams)",
      "execution_count": 21,
      "outputs": [
        {
          "name": "stdout",
          "text": "{'penalty': 'l2', 'fit_intercept': True, 'class_weight': 'balanced', 'C': 1000}\n",
          "output_type": "stream"
        }
      ]
    },
    {
      "cell_type": "markdown",
      "source": "# Choose final model\nAlthough the scores of both models are very similar, logistic regression was chosen because of the higher balanced accuracy score",
      "metadata": {
        "tags": [],
        "cell_id": "00042-c77ae9b6-5196-4744-866c-68b3a93c7090",
        "deepnote_cell_type": "markdown"
      }
    },
    {
      "cell_type": "markdown",
      "source": "# Fit the final model on training data",
      "metadata": {
        "tags": [],
        "cell_id": "00042-9dc3e3a1-2f22-44c0-a997-f193e4f3a014",
        "deepnote_cell_type": "markdown"
      }
    },
    {
      "cell_type": "code",
      "source": "pipe = Pipeline([(\"preprocessing\", preprocessing),\n                (\"log_reg\", LogisticRegression(**logreg_bestparams))])\n\nmodel = pipe.fit(X_train, y_train)\n\n",
      "metadata": {
        "tags": [],
        "cell_id": "00044-94d1fd92-e5d5-4f7f-bde8-3ec0fa8fbc23",
        "deepnote_to_be_reexecuted": false,
        "source_hash": "fe094da1",
        "execution_millis": 1954,
        "execution_start": 1615272563617,
        "deepnote_cell_type": "code"
      },
      "outputs": [
        {
          "name": "stderr",
          "text": "/shared-libs/python3.7/py/lib/python3.7/site-packages/sklearn/linear_model/_logistic.py:765: ConvergenceWarning: lbfgs failed to converge (status=1):\nSTOP: TOTAL NO. of ITERATIONS REACHED LIMIT.\n\nIncrease the number of iterations (max_iter) or scale the data as shown in:\n    https://scikit-learn.org/stable/modules/preprocessing.html\nPlease also refer to the documentation for alternative solver options:\n    https://scikit-learn.org/stable/modules/linear_model.html#logistic-regression\n  extra_warning_msg=_LOGISTIC_SOLVER_CONVERGENCE_MSG)\n",
          "output_type": "stream"
        }
      ],
      "execution_count": 22
    },
    {
      "cell_type": "code",
      "source": "# Print model hyper parameters\nmodel.get_params",
      "metadata": {
        "tags": [],
        "cell_id": "00043-e4f4ac0a-76b7-4038-a5b5-269c3956ad09",
        "deepnote_to_be_reexecuted": false,
        "source_hash": "941243d8",
        "execution_millis": 71,
        "execution_start": 1615272565574,
        "deepnote_cell_type": "code"
      },
      "outputs": [
        {
          "output_type": "execute_result",
          "execution_count": 23,
          "data": {
            "text/plain": "<bound method Pipeline.get_params of Pipeline(steps=[('preprocessing',\n                 ColumnTransformer(transformers=[('categorical',\n                                                  Pipeline(steps=[('cat_imputer',\n                                                                   SimpleImputer(strategy='most_frequent')),\n                                                                  ('ohe',\n                                                                   OneHotEncoder(handle_unknown='ignore'))]),\n                                                  hotel                              True\nlead_time                         False\narrival_date_year                 False\narrival_date_month                 True\narrival_date_week_number          False\narrival_date_day_of_month         False\nstays_in_weekend_nights...\nprevious_bookings_not_canceled     True\nreserved_room_type                False\nassigned_room_type                False\nbooking_changes                    True\ndeposit_type                      False\nagent                             False\ncompany                           False\ndays_in_waiting_list               True\ncustomer_type                     False\nadr                                True\nrequired_car_parking_spaces        True\ntotal_of_special_requests          True\nreservation_status                False\nreservation_status_date           False\ndtype: bool)])),\n                ('log_reg',\n                 LogisticRegression(C=1000, class_weight='balanced'))])>"
          },
          "metadata": {}
        }
      ],
      "execution_count": 23
    },
    {
      "cell_type": "markdown",
      "source": "# Get predictions for the test data set",
      "metadata": {
        "tags": [],
        "cell_id": "00044-1bf965a3-7483-4553-8616-b5084e353806",
        "deepnote_cell_type": "markdown"
      }
    },
    {
      "cell_type": "code",
      "source": "y_pred = model.predict(X_test)",
      "metadata": {
        "tags": [],
        "cell_id": "00044-2b7e42a2-69e3-4bea-9e0b-32d1ac086170",
        "deepnote_to_be_reexecuted": false,
        "source_hash": "1febaa2d",
        "execution_millis": 123,
        "execution_start": 1615272565636,
        "deepnote_cell_type": "code"
      },
      "outputs": [],
      "execution_count": 24
    },
    {
      "cell_type": "markdown",
      "source": "# Get the metrics for final model ",
      "metadata": {
        "tags": [],
        "cell_id": "00046-db6c0773-9437-436a-b1c3-cf632a768a5c",
        "deepnote_cell_type": "markdown"
      }
    },
    {
      "cell_type": "code",
      "source": "print(f\"Balanced accuracy score: {balanced_accuracy_score(y_test, y_pred): .4f}\")\nprint(f\"Precision score: {precision_score(y_test, y_pred, average='weighted'):.4f}\")\nprint(f\"Recall score: {recall_score(y_test, y_pred, average='weighted'):.4f}\")\nprint(f\"F1 score: {f1_score(y_test, y_pred, average='weighted'):.4f}\")",
      "metadata": {
        "tags": [],
        "cell_id": "00045-c0e702bb-68fd-4013-becf-5a8365556387",
        "deepnote_to_be_reexecuted": false,
        "source_hash": "cba997fc",
        "execution_millis": 38,
        "execution_start": 1615274281603,
        "deepnote_cell_type": "code"
      },
      "outputs": [
        {
          "name": "stdout",
          "text": "Balanced accuracy score:  0.8104\nPrecision score: 0.8195\nRecall score: 0.8163\nF1 score: 0.8174\n",
          "output_type": "stream"
        }
      ],
      "execution_count": 26
    },
    {
      "cell_type": "markdown",
      "source": "- A balanced accuarcy score of 0.81 implies that the model can correctly predict 81% of the labels of each class.\n- A precision score of 0.82 implies that of all the cases wherein the model predicted that the booking will be cancelled, 82% were identified correctly.\n- A recall score of 0.82 implies that of all the cases wherein the booking was cancelled, the model correctly identified 82%.\n- An F1 score of 0.82, is the weighted average of precision and recall. Although not as intuitive as accuracy, a high f1 score indicates a good balance of precision and recall.",
      "metadata": {
        "tags": [],
        "cell_id": "00048-cccb25a7-78c9-4852-be0e-40d33ef29dcd",
        "deepnote_cell_type": "markdown"
      }
    },
    {
      "cell_type": "markdown",
      "source": "# Summary\n\nThe logistic regression model proved to be a better choice to predict whether a hotel booking would be cancelled given the current and prior booking information about the type of hotel, room, customer, stay, payment status, etc. While the balanced accuracy score of the random forest model was only slightly lower, using an l2 penalty with logistic regression could have helped to avoid overfitting and improved the model's generality. \n\nThis model can help the hotel management allocate the room to someone else if there's a possibility that a booking would be cancelled. A high balanced accuracy score indicates that while the management can avoid loss in revenue by allocating a booking (which is likely to get cancelled) to someone else, the management can also know when the booking is not likely to get cancelled with a reasonable amount of accuracy. This would reduce the chances of an event when a customer shows up only to find out their booking has been allocated to someone else, resulting in reputation and revenue loss for management.   ",
      "metadata": {
        "tags": [],
        "cell_id": "00048-b10526ef-406d-45d2-8156-05d679b318d7",
        "deepnote_cell_type": "markdown"
      }
    },
    {
      "cell_type": "markdown",
      "source": "# Future directions\n\nBy engineering more features, the number of days within which a booking is cancelled (if at all it is) can be predicted. This would enable the hotel management to devise their cancellation policies and aid in calculating cancellation fees. ",
      "metadata": {
        "tags": [],
        "cell_id": "00050-4df484a1-33b6-4ede-98b3-119a3981a7dd",
        "deepnote_cell_type": "markdown"
      }
    },
    {
      "cell_type": "markdown",
      "source": "",
      "metadata": {
        "tags": [],
        "cell_id": "00051-d36b18b9-f1dd-4428-9238-c454ec4c728e",
        "deepnote_cell_type": "markdown"
      }
    },
    {
      "cell_type": "markdown",
      "source": "<a style='text-decoration:none;line-height:16px;display:flex;color:#5B5B62;padding:10px;justify-content:end;' href='https://deepnote.com?utm_source=created-in-deepnote-cell&projectId=ddc61a58-e71d-4541-81d3-ede4d6669fe3' target=\"_blank\">\n<img style='display:inline;max-height:16px;margin:0px;margin-right:7.5px;' src='data:image/svg+xml;base64,PD94bWwgdmVyc2lvbj0iMS4wIiBlbmNvZGluZz0iVVRGLTgiPz4KPHN2ZyB3aWR0aD0iODBweCIgaGVpZ2h0PSI4MHB4IiB2aWV3Qm94PSIwIDAgODAgODAiIHZlcnNpb249IjEuMSIgeG1sbnM9Imh0dHA6Ly93d3cudzMub3JnLzIwMDAvc3ZnIiB4bWxuczp4bGluaz0iaHR0cDovL3d3dy53My5vcmcvMTk5OS94bGluayI+CiAgICA8IS0tIEdlbmVyYXRvcjogU2tldGNoIDU0LjEgKDc2NDkwKSAtIGh0dHBzOi8vc2tldGNoYXBwLmNvbSAtLT4KICAgIDx0aXRsZT5Hcm91cCAzPC90aXRsZT4KICAgIDxkZXNjPkNyZWF0ZWQgd2l0aCBTa2V0Y2guPC9kZXNjPgogICAgPGcgaWQ9IkxhbmRpbmciIHN0cm9rZT0ibm9uZSIgc3Ryb2tlLXdpZHRoPSIxIiBmaWxsPSJub25lIiBmaWxsLXJ1bGU9ImV2ZW5vZGQiPgogICAgICAgIDxnIGlkPSJBcnRib2FyZCIgdHJhbnNmb3JtPSJ0cmFuc2xhdGUoLTEyMzUuMDAwMDAwLCAtNzkuMDAwMDAwKSI+CiAgICAgICAgICAgIDxnIGlkPSJHcm91cC0zIiB0cmFuc2Zvcm09InRyYW5zbGF0ZSgxMjM1LjAwMDAwMCwgNzkuMDAwMDAwKSI+CiAgICAgICAgICAgICAgICA8cG9seWdvbiBpZD0iUGF0aC0yMCIgZmlsbD0iIzAyNjVCNCIgcG9pbnRzPSIyLjM3NjIzNzYyIDgwIDM4LjA0NzY2NjcgODAgNTcuODIxNzgyMiA3My44MDU3NTkyIDU3LjgyMTc4MjIgMzIuNzU5MjczOSAzOS4xNDAyMjc4IDMxLjY4MzE2ODMiPjwvcG9seWdvbj4KICAgICAgICAgICAgICAgIDxwYXRoIGQ9Ik0zNS4wMDc3MTgsODAgQzQyLjkwNjIwMDcsNzYuNDU0OTM1OCA0Ny41NjQ5MTY3LDcxLjU0MjI2NzEgNDguOTgzODY2LDY1LjI2MTk5MzkgQzUxLjExMjI4OTksNTUuODQxNTg0MiA0MS42NzcxNzk1LDQ5LjIxMjIyODQgMjUuNjIzOTg0Niw0OS4yMTIyMjg0IEMyNS40ODQ5Mjg5LDQ5LjEyNjg0NDggMjkuODI2MTI5Niw0My4yODM4MjQ4IDM4LjY0NzU4NjksMzEuNjgzMTY4MyBMNzIuODcxMjg3MSwzMi41NTQ0MjUgTDY1LjI4MDk3Myw2Ny42NzYzNDIxIEw1MS4xMTIyODk5LDc3LjM3NjE0NCBMMzUuMDA3NzE4LDgwIFoiIGlkPSJQYXRoLTIyIiBmaWxsPSIjMDAyODY4Ij48L3BhdGg+CiAgICAgICAgICAgICAgICA8cGF0aCBkPSJNMCwzNy43MzA0NDA1IEwyNy4xMTQ1MzcsMC4yNTcxMTE0MzYgQzYyLjM3MTUxMjMsLTEuOTkwNzE3MDEgODAsMTAuNTAwMzkyNyA4MCwzNy43MzA0NDA1IEM4MCw2NC45NjA0ODgyIDY0Ljc3NjUwMzgsNzkuMDUwMzQxNCAzNC4zMjk1MTEzLDgwIEM0Ny4wNTUzNDg5LDc3LjU2NzA4MDggNTMuNDE4MjY3Nyw3MC4zMTM2MTAzIDUzLjQxODI2NzcsNTguMjM5NTg4NSBDNTMuNDE4MjY3Nyw0MC4xMjg1NTU3IDM2LjMwMzk1NDQsMzcuNzMwNDQwNSAyNS4yMjc0MTcsMzcuNzMwNDQwNSBDMTcuODQzMDU4NiwzNy43MzA0NDA1IDkuNDMzOTE5NjYsMzcuNzMwNDQwNSAwLDM3LjczMDQ0MDUgWiIgaWQ9IlBhdGgtMTkiIGZpbGw9IiMzNzkzRUYiPjwvcGF0aD4KICAgICAgICAgICAgPC9nPgogICAgICAgIDwvZz4KICAgIDwvZz4KPC9zdmc+' > </img>\nCreated in <span style='font-weight:600;margin-left:4px;'>Deepnote</span></a>",
      "metadata": {
        "tags": [],
        "created_in_deepnote_cell": true,
        "deepnote_cell_type": "markdown"
      }
    }
  ],
  "nbformat": 4,
  "nbformat_minor": 5,
  "metadata": {
    "kernelspec": {
      "display_name": "Python 3",
      "language": "python",
      "name": "python3"
    },
    "deepnote_notebook_id": "40b91353-ee44-41ce-9706-7f753c4dff9e",
    "deepnote": {},
    "deepnote_execution_queue": []
  }
}